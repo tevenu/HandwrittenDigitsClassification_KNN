{
 "cells": [
  {
   "cell_type": "markdown",
   "source": [
    "# 本文件为KNN手写数字分类任务的可视化\n",
    "即通过选取一些测试集中的图片来测试模型的分类效果"
   ],
   "metadata": {
    "collapsed": false,
    "pycharm": {
     "name": "#%% md\n"
    }
   }
  },
  {
   "cell_type": "code",
   "execution_count": 1,
   "outputs": [],
   "source": [
    "import matplotlib.pyplot as plt\n",
    "from PIL import Image\n",
    "from KNN import KNN"
   ],
   "metadata": {
    "collapsed": false,
    "pycharm": {
     "name": "#%%\n"
    }
   }
  },
  {
   "cell_type": "code",
   "execution_count": 2,
   "outputs": [],
   "source": [
    "# 指定k的数量\n",
    "k = 4"
   ],
   "metadata": {
    "collapsed": false,
    "pycharm": {
     "name": "#%%\n"
    }
   }
  },
  {
   "cell_type": "code",
   "execution_count": 5,
   "outputs": [
    {
     "data": {
      "text/plain": "<Figure size 432x288 with 1 Axes>",
      "image/png": "[encoded data removed]"
     },
     "metadata": {
      "needs_background": "light"
     },
     "output_type": "display_data"
    },
    {
     "name": "stdout",
     "output_type": "stream",
     "text": [
      "7\n"
     ]
    }
   ],
   "source": [
    "Classification = KNN(k,60000)\n",
    "image_path = r\"D:\\大学文件\\大三下\\人工智能导论\\Mnist\\img_test\\0.png\"\n",
    "\n",
    "# 读取图像\n",
    "image = Image.open(image_path).convert('L')\n",
    "\n",
    "# 显示灰度图像\n",
    "plt.imshow(image, cmap='gray')\n",
    "plt.axis('off')\n",
    "plt.show()\n",
    "\n",
    "predict = Classification.classify_l3(image_path)\n",
    "print(predict)"
   ],
   "metadata": {
    "collapsed": false,
    "pycharm": {
     "name": "#%%\n"
    }
   }
  },
  {
   "cell_type": "markdown",
   "source": [
    "# 椒盐投毒展示"
   ],
   "metadata": {
    "collapsed": false,
    "pycharm": {
     "name": "#%% md\n"
    }
   }
  },
  {
   "cell_type": "code",
   "execution_count": 10,
   "outputs": [],
   "source": [
    "import numpy as np\n",
    "from PIL import Image\n",
    "\n",
    "# 给图像数据添加椒盐噪声\n",
    "def add_salt_pepper_noise(image, salt_prob, pepper_prob):\n",
    "    image_array = np.array(image)\n",
    "    height, width = image_array.shape\n",
    "    salt_noise = np.random.rand(height, width) < salt_prob\n",
    "    pepper_noise = np.random.rand(height, width) < pepper_prob\n",
    "    image_array[salt_noise] = 255\n",
    "    image_array[pepper_noise] = 0\n",
    "    return Image.fromarray(image_array)"
   ],
   "metadata": {
    "collapsed": false,
    "pycharm": {
     "name": "#%%\n"
    }
   }
  },
  {
   "cell_type": "markdown",
   "source": [
    "# 生成添加椒盐噪声的图片\n",
    "一共五张，投毒比例0.3"
   ],
   "metadata": {
    "collapsed": false,
    "pycharm": {
     "name": "#%% md\n"
    }
   }
  },
  {
   "cell_type": "code",
   "execution_count": 17,
   "outputs": [],
   "source": [
    "for i in range(0,5):\n",
    "    image_path = fr\"D:\\大学文件\\大三下\\人工智能导论\\Mnist\\img_test\\{i}.png\"\n",
    "\n",
    "    # 读取图像\n",
    "    image = Image.open(image_path).convert('L')\n",
    "    # 投毒比例\n",
    "    poison_ratio = 0.3\n",
    "    # 数据投毒\n",
    "    noisy_image = add_salt_pepper_noise(image, salt_prob=poison_ratio, pepper_prob=poison_ratio)\n",
    "\n",
    "    # 保存图像到文件\n",
    "    noisy_image.save(f\"noisy_image_{i}.jpg\")  # 替换为您想要保存的文件路径和文件名"
   ],
   "metadata": {
    "collapsed": false,
    "pycharm": {
     "name": "#%%\n"
    }
   }
  },
  {
   "cell_type": "markdown",
   "source": [
    "# 对生成的椒盐投毒图片做手写数字识别"
   ],
   "metadata": {
    "collapsed": false,
    "pycharm": {
     "name": "#%% md\n"
    }
   }
  },
  {
   "cell_type": "code",
   "execution_count": 18,
   "outputs": [
    {
     "data": {
      "text/plain": "<Figure size 432x288 with 1 Axes>",
      "image/png": "[encoded data removed]"
     },
     "metadata": {
      "needs_background": "light"
     },
     "output_type": "display_data"
    },
    {
     "name": "stdout",
     "output_type": "stream",
     "text": [
      "7\n"
     ]
    },
    {
     "data": {
      "text/plain": "<Figure size 432x288 with 1 Axes>",
      "image/png": "[encoded data removed]"
     },
     "metadata": {
      "needs_background": "light"
     },
     "output_type": "display_data"
    },
    {
     "name": "stdout",
     "output_type": "stream",
     "text": [
      "2\n"
     ]
    },
    {
     "data": {
      "text/plain": "<Figure size 432x288 with 1 Axes>",
      "image/png": "[encoded data removed]"
     },
     "metadata": {
      "needs_background": "light"
     },
     "output_type": "display_data"
    },
    {
     "name": "stdout",
     "output_type": "stream",
     "text": [
      "1\n"
     ]
    },
    {
     "data": {
      "text/plain": "<Figure size 432x288 with 1 Axes>",
      "image/png": "[encoded data removed]"
     },
     "metadata": {
      "needs_background": "light"
     },
     "output_type": "display_data"
    },
    {
     "name": "stdout",
     "output_type": "stream",
     "text": [
      "0\n"
     ]
    },
    {
     "data": {
      "text/plain": "<Figure size 432x288 with 1 Axes>",
      "image/png": "[encoded data removed]"
     },
     "metadata": {
      "needs_background": "light"
     },
     "output_type": "display_data"
    },
    {
     "name": "stdout",
     "output_type": "stream",
     "text": [
      "4\n"
     ]
    }
   ],
   "source": [
    "for i in range(0,5):\n",
    "    image_path = f\"noisy_image_{i}.jpg\"\n",
    "    # 读取图像\n",
    "    image = Image.open(image_path).convert('L')\n",
    "\n",
    "    # 显示灰度图像\n",
    "    plt.imshow(image, cmap='gray')\n",
    "    plt.axis('off')\n",
    "    plt.show()\n",
    "\n",
    "    predict = Classification.classify_l3(image_path)\n",
    "    print(predict)\n",
    "\n"
   ],
   "metadata": {
    "collapsed": false,
    "pycharm": {
     "name": "#%%\n"
    }
   }
  }
 ],
 "metadata": {
  "kernelspec": {
   "name": "python3.10",
   "language": "python",
   "display_name": "python3.10"
  },
  "language_info": {
   "codemirror_mode": {
    "name": "ipython",
    "version": 2
   },
   "file_extension": ".py",
   "mimetype": "text/x-python",
   "name": "python",
   "nbconvert_exporter": "python",
   "pygments_lexer": "ipython2",
   "version": "2.7.6"
  }
 },
 "nbformat": 4,
 "nbformat_minor": 0
}
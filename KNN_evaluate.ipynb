{
 "cells": [
  {
   "cell_type": "code",
   "execution_count": 1,
   "outputs": [],
   "source": [
    "import numpy as np\n",
    "from threading import Thread\n",
    "import torch\n",
    "from img2vec import img2vec\n",
    "from sklearn.metrics import confusion_matrix"
   ],
   "metadata": {
    "collapsed": false,
    "pycharm": {
     "name": "#%%\n"
    }
   }
  },
  {
   "cell_type": "code",
   "execution_count": 2,
   "outputs": [],
   "source": [
    "def read_labels(path, labels):\n",
    "    # 以只读模式打开txt文件\n",
    "    with open(path, 'r') as f:\n",
    "        # 遍历文件中的每一行\n",
    "        for line in f:\n",
    "            # 去掉行尾的换行符\n",
    "            line = line.strip()\n",
    "            # 把行中的数字转换为整数类型，并添加到列表中\n",
    "            labels.append(int(line))"
   ],
   "metadata": {
    "collapsed": false,
    "pycharm": {
     "name": "#%%\n"
    }
   }
  },
  {
   "cell_type": "code",
   "execution_count": 3,
   "outputs": [],
   "source": [
    "class KNN:\n",
    "    def __init__(self, k, train_size):\n",
    "        self.k = k\n",
    "        self.train_size = train_size\n",
    "        self.train_vectors = np.empty(shape=[self.train_size, 784])\n",
    "        self.test_vector = np.empty(shape=[1, 784])\n",
    "        self.train_labels = []\n",
    "        self.test_labels = []\n",
    "        # train_label_path = r\"D:\\大学文件\\大三下\\人工智能导论\\Mnist\\labels_train.txt\"\n",
    "        train_label_path = r\"labels/labels_train.txt\"\n",
    "        test_label_path = r\"labels/labels_test.txt\"\n",
    "        read_labels(train_label_path, self.train_labels)\n",
    "        read_labels(test_label_path, self.test_labels)\n",
    "        self.train_vectors = torch.from_numpy(np.loadtxt('train_vectors.txt')).cuda()\n",
    "\n",
    "    def classify(self, path):\n",
    "        self.test_vector = torch.from_numpy(img2vec(path)).cuda()\n",
    "        # 矩阵运算，计算测试数据与每个样本数据对应数据项的差值\n",
    "        diff_mat = torch.tile(self.test_vector, (self.train_size, 1)) - self.train_vectors\n",
    "        # 差值求绝对值\n",
    "        diff_mat = torch.abs(diff_mat)\n",
    "        # # 上一步骤结果平方和\n",
    "        # square_mat = torch.pow(diff_mat, 2)\n",
    "        # square_distances = torch.sum(square_mat, dim=1)\n",
    "        #\n",
    "        # # 取平方根，得到距离向量\n",
    "        # distances = torch.sqrt(square_distances)\n",
    "\n",
    "        # 上一步骤结果立方和\n",
    "        cube_mat = torch.pow(diff_mat, 3)\n",
    "        cube_distances = torch.sum(cube_mat, dim=1)\n",
    "\n",
    "        # 取立方根，得到距离向量\n",
    "        distances = torch.pow(cube_distances, 1 / 3)\n",
    "\n",
    "        # 或者可以直接用这一行代码来计算 L3 距离\n",
    "        # distances = torch.norm(diff_mat, p=3, dim=1)\n",
    "\n",
    "        # 按照距离从低到高排序\n",
    "        sorted_distances = torch.argsort(distances)\n",
    "\n",
    "        labels = [0] * 10\n",
    "        for i in range(0, self.k):\n",
    "            # 获取第i近的图片对应的标签\n",
    "            label = self.train_labels[sorted_distances[i]]\n",
    "            # 根据距离的倒数计算权重，距离越小权重越大\n",
    "            weight = 1 / distances[sorted_distances[i]]\n",
    "            # 对应类别增加权重\n",
    "            labels[label] += weight\n",
    "        # 找出权重最大的类别对应的索引值，代表分类结果\n",
    "        max_value = max(labels)\n",
    "        max_index = labels.index(max_value)\n",
    "        return max_index\n",
    "\n",
    "    # 多线程执行中每一个线程执行的函数\n",
    "    def target(self, test_begin, test_end, counts, predictions, true_labels):\n",
    "        count = 0  # 局部变量，存储每一个线程的成功识别次数\n",
    "        file_root = r\"D:\\大学文件\\大三下\\人工智能导论\\Mnist\\img_test\"\n",
    "        for i in range(test_begin, test_end):\n",
    "            file_path = file_root + '\\\\' + '%s.png' % i\n",
    "            value = self.classify(file_path)\n",
    "            if value == self.test_labels[i]:\n",
    "                count += 1\n",
    "            predictions[i] = value\n",
    "            true_labels[i] = self.test_labels[i]\n",
    "        counts[test_begin] = count  # 把count变量存储到字典中\n",
    "\n",
    "    def evaluate(self, test_size, jobs):\n",
    "        # 用给定的测试大小，线程数来创建和管理线程，并计算准确率和混淆矩阵\n",
    "        threads = []  # 一个列表来存储线程对象\n",
    "        counts = {}  # 一个字典来存储每个线程的count变量\n",
    "        predictions = {}  # 一个字典来存储每个样本的预测结果\n",
    "        true_labels = {}  # 一个字典来存储每个样本的真实标签\n",
    "        step = test_size // jobs  # 计算每个子范围的大小\n",
    "        for i in range(0, test_size, step):  # 创建5个线程\n",
    "            if i + step > test_size:\n",
    "                end = test_size\n",
    "            else:\n",
    "                end = i + step\n",
    "            # 创建一个线程对象，并把目标函数，开始位置、结束位置和counts, predictions, true_labels作为实参传递给它\n",
    "            t = Thread(target=self.target, args=(i, end, counts, predictions, true_labels))\n",
    "            threads.append(t)  # 把线程对象添加到列表中\n",
    "            t.start()  # 启动线程\n",
    "\n",
    "        for t in threads:  # 等待所有的线程结束\n",
    "            t.join()\n",
    "\n",
    "        total_count = sum(counts.values())  # 计算所有线程的count变量之和\n",
    "        accuracy = total_count / test_size  # 计算准确率\n",
    "\n",
    "        # 生成混淆矩阵\n",
    "        y_pred = np.array([predictions[i] for i in range(test_size)])\n",
    "        y_true = np.array([true_labels[i] for i in range(test_size)])\n",
    "        cm = confusion_matrix(y_true, y_pred)\n",
    "\n",
    "        return accuracy, cm\n"
   ],
   "metadata": {
    "collapsed": false,
    "pycharm": {
     "name": "#%%\n"
    }
   }
  },
  {
   "cell_type": "code",
   "execution_count": 4,
   "outputs": [
    {
     "name": "stdout",
     "output_type": "stream",
     "text": [
      "距离:L3,k:4,测试数量:10000,准确率:0.9743\n"
     ]
    }
   ],
   "source": [
    "k = 4\n",
    "a = KNN(k, 60000)\n",
    "test_size = 10000\n",
    "acc, cm = a.evaluate(test_size, 3)\n",
    "np.savetxt('confusion_matrix.txt', cm, fmt='%d')\n",
    "print(f\"距离:L3,k:{k},测试数量:{test_size},准确率:{acc}\")"
   ],
   "metadata": {
    "collapsed": false,
    "pycharm": {
     "name": "#%%\n"
    }
   }
  },
  {
   "cell_type": "code",
   "execution_count": 5,
   "outputs": [
    {
     "data": {
      "text/plain": "<Figure size 720x576 with 2 Axes>",
      "image/png": "[encoded data removed]"
     },
     "metadata": {},
     "output_type": "display_data"
    }
   ],
   "source": [
    "import matplotlib.pyplot as plt\n",
    "import seaborn as sns\n",
    "\n",
    "# 绘制混淆矩阵热力图\n",
    "plt.figure(figsize=(10, 8))\n",
    "sns.heatmap(cm, annot=True, cmap=\"Blues\", fmt=\"d\")\n",
    "plt.title(\"Confusion Matrix\")\n",
    "plt.xlabel(\"Predicted Labels\")\n",
    "plt.ylabel(\"True Labels\")\n",
    "plt.show()\n",
    "\n",
    "\n"
   ],
   "metadata": {
    "collapsed": false,
    "pycharm": {
     "name": "#%%\n"
    }
   }
  },
  {
   "cell_type": "code",
   "execution_count": 6,
   "outputs": [
    {
     "name": "stdout",
     "output_type": "stream",
     "text": [
      "距离:L3,k:3,测试数量:10000,准确率:0.9728\n",
      "距离:L3,k:4,测试数量:10000,准确率:0.9743\n",
      "距离:L3,k:5,测试数量:10000,准确率:0.9735\n",
      "距离:L3,k:6,测试数量:10000,准确率:0.9737\n",
      "距离:L3,k:7,测试数量:10000,准确率:0.9722\n",
      "距离:L3,k:8,测试数量:10000,准确率:0.9724\n",
      "距离:L3,k:9,测试数量:10000,准确率:0.9708\n",
      "距离:L3,k:10,测试数量:10000,准确率:0.9714\n"
     ]
    }
   ],
   "source": [
    "# k遍历3-10,评估不同k对应的KNN模型的准确率\n",
    "for k in range(3, 11):\n",
    "    a = KNN(k, 60000)\n",
    "    test_size = 10000\n",
    "    acc, cm = a.evaluate(test_size, 3)\n",
    "    print(f\"距离:L3,k:{k},测试数量:{test_size},准确率:{acc}\")"
   ],
   "metadata": {
    "collapsed": false,
    "pycharm": {
     "name": "#%%\n"
    }
   }
  },
  {
   "cell_type": "code",
   "execution_count": 6,
   "outputs": [],
   "source": [],
   "metadata": {
    "collapsed": false,
    "pycharm": {
     "name": "#%%\n"
    }
   }
  }
 ],
 "metadata": {
  "kernelspec": {
   "name": "python3",
   "language": "python",
   "display_name": "Python 3"
  },
  "language_info": {
   "codemirror_mode": {
    "name": "ipython",
    "version": 2
   },
   "file_extension": ".py",
   "mimetype": "text/x-python",
   "name": "python",
   "nbconvert_exporter": "python",
   "pygments_lexer": "ipython2",
   "version": "2.7.6"
  }
 },
 "nbformat": 4,
 "nbformat_minor": 0
}